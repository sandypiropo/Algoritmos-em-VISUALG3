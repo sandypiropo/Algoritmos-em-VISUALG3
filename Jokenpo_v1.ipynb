{
  "nbformat": 4,
  "nbformat_minor": 0,
  "metadata": {
    "colab": {
      "provenance": [],
      "authorship_tag": "ABX9TyOKkVOgHYmXE56i4Z/KDK5h",
      "include_colab_link": true
    },
    "kernelspec": {
      "name": "python3",
      "display_name": "Python 3"
    },
    "language_info": {
      "name": "python"
    }
  },
  "cells": [
    {
      "cell_type": "markdown",
      "metadata": {
        "id": "view-in-github",
        "colab_type": "text"
      },
      "source": [
        "<a href=\"https://colab.research.google.com/github/sandypiropo/Algoritmos-em-VISUALG3/blob/main/Jokenpo_v1.ipynb\" target=\"_parent\"><img src=\"https://colab.research.google.com/assets/colab-badge.svg\" alt=\"Open In Colab\"/></a>"
      ]
    },
    {
      "cell_type": "code",
      "execution_count": 10,
      "metadata": {
        "colab": {
          "base_uri": "https://localhost:8080/"
        },
        "id": "5Qzj0tkPDHtl",
        "outputId": "d9562a76-ffcc-4e45-ccb6-37cb9420cbc3"
      },
      "outputs": [
        {
          "output_type": "stream",
          "name": "stdout",
          "text": [
            "Jokenpo vs Computador\n",
            "Faça a sua escolha:\n",
            "        [1] PEDRA ✊\n",
            "        [2] PAPEL 🖐️\n",
            "        [3] TESOURA ✌️\n",
            "Sua opção: 1\n",
            "JO\n",
            "KEN\n",
            "PO\n",
            "O computador escolheu Papel 🖐️\n",
            "Você escolheu Pedra ✊\n",
            "                   \u001b[1;31mCOMPUTADOR VENCE\u001b[0m\n",
            "Deseja jogar novamente? (sim/não)2\n",
            "Resposta inválida. Deseja jogar novamente? (sim/não)sim\n",
            "Jokenpo vs Computador\n",
            "Faça a sua escolha:\n",
            "        [1] PEDRA ✊\n",
            "        [2] PAPEL 🖐️\n",
            "        [3] TESOURA ✌️\n",
            "Sua opção: 3\n",
            "JO\n",
            "KEN\n",
            "PO\n",
            "O computador escolheu Papel 🖐️\n",
            "Você escolheu Tesoura ✌️\n",
            "                   \u001b[1;32mVOCÊ VENCEU\u001b[0m\n",
            "Deseja jogar novamente? (sim/não)nao\n",
            "Obrigado por jogar!\n",
            "Pontuação final:\n",
            "Jogador: 1\n",
            "Computador: 1\n"
          ]
        }
      ],
      "source": [
        "from random import randint\n",
        "from time import sleep\n",
        "from emoji import emojize\n",
        "\n",
        "lista = ['Pedra', 'Papel', 'Tesoura']\n",
        "\n",
        "pontos_jogador = 0\n",
        "pontos_computador = 0\n",
        "\n",
        "jogar_novamente = \"sim\"\n",
        "\n",
        "while jogar_novamente.lower() == \"sim\":\n",
        "    computador = randint(0, 2)\n",
        "    print('Jokenpo vs Computador')\n",
        "    print(emojize('''Faça a sua escolha:\n",
        "        [1] PEDRA :raised_fist:\n",
        "        [2] PAPEL :hand_with_fingers_splayed:\n",
        "        [3] TESOURA :victory_hand:'''))\n",
        "    opcoes = [1, 2, 3]\n",
        "    jogador = int(input('Sua opção: '))\n",
        "    while jogador not in opcoes:\n",
        "        jogador = int(input('Digite um valor válido [1, 2 ou 3]. Qual é a sua jogada? '))\n",
        "\n",
        "    print('JO')\n",
        "    sleep(1)\n",
        "    print('KEN')\n",
        "    sleep(1)\n",
        "    print('PO')\n",
        "    sleep(1)\n",
        "\n",
        "    if computador == 0:\n",
        "        print(emojize('O computador escolheu {} :raised_fist:'.format(lista[computador])))\n",
        "        if jogador == 1:\n",
        "            print(emojize('''Você escolheu :raised_fist:\n",
        "                  \\033[1;33mEMPATE\\033[0m'''))\n",
        "        elif jogador == 2:\n",
        "            print(emojize('''Você escolheu Papel :hand_with_fingers_splayed:\n",
        "                  \\033[1;32mVOCÊ VENCEU\\033[0m'''))\n",
        "            pontos_jogador += 1\n",
        "        elif jogador == 3:\n",
        "            print(emojize('''Você escolheu Tesoura :victory_hand:\n",
        "                  \\033[1;31mCOMPUTADOR VENCE\\033[0m'''))\n",
        "            pontos_computador += 1\n",
        "        else:\n",
        "            print('Jogada inválida')\n",
        "    elif computador == 1:\n",
        "        print(emojize('O computador escolheu {} :hand_with_fingers_splayed:'.format(lista[computador])))\n",
        "        if jogador == 1:\n",
        "            print(emojize('''Você escolheu Pedra :raised_fist:\n",
        "                   \\033[1;31mCOMPUTADOR VENCE\\033[0m'''))\n",
        "            pontos_computador += 1\n",
        "        elif jogador == 2:\n",
        "            print(emojize('''Você escolheu Papel :hand_with_fingers_splayed:\n",
        "                   \\033[1;33mEMPATE\\033[0m'''))\n",
        "        elif jogador == 3:\n",
        "            print(emojize('''Você escolheu Tesoura :victory_hand:\n",
        "                   \\033[1;32mVOCÊ VENCEU\\033[0m'''))\n",
        "            pontos_jogador += 1\n",
        "        else:\n",
        "            print('Jogada inválida')\n",
        "    elif computador == 2:\n",
        "        print(emojize('O computador escolheu {} :victory_hand:'.format(lista[computador])))\n",
        "        if jogador == 1:\n",
        "            print(emojize('''Você jogou Pedra :raised_fist:\n",
        "                  \\033[1;32mVOCÊ VENCEU\\033[0m'''))\n",
        "            pontos_jogador += 1\n",
        "        elif jogador == 2:\n",
        "            print(emojize('''Você escolheu Papel :hand_with_fingers_splayed:\n",
        "                  \\033[1;31mCOMPUTADOR VENCE\\033[0m'''))\n",
        "            pontos_computador += 1\n",
        "        elif jogador == 3:\n",
        "            print(emojize('''Você escolheu Tesoura :victory_hand:\n",
        "                \\033[1;33mEMPATE\\033[0m'''))\n",
        "        else:\n",
        "           print('Jogada inválida')\n",
        "\n",
        "    jogar_novamente = input(\"Deseja jogar novamente? (sim/não)\")\n",
        "\n",
        "    while jogar_novamente.lower() not in [\"s\", \"sim\", \"não\", \"nao\", \"n\"]:\n",
        "        jogar_novamente = input(\"Resposta inválida. Deseja jogar novamente? (sim/não)\")\n",
        "\n",
        "    if jogar_novamente.lower() in [\"não\", \"nao\", \"n\", \"N\"]:\n",
        "        print(\"Obrigado por jogar!\")\n",
        "        print(\"Pontuação final:\")\n",
        "        print(\"Jogador:\", pontos_jogador)\n",
        "        print(\"Computador:\", pontos_computador)\n",
        "        break"
      ]
    },
    {
      "cell_type": "code",
      "source": [
        "pip install emoji"
      ],
      "metadata": {
        "colab": {
          "base_uri": "https://localhost:8080/"
        },
        "id": "B2gmZd-QDXdt",
        "outputId": "17b4d302-54e9-45fb-e617-423c9a2c616c"
      },
      "execution_count": 3,
      "outputs": [
        {
          "output_type": "stream",
          "name": "stdout",
          "text": [
            "Looking in indexes: https://pypi.org/simple, https://us-python.pkg.dev/colab-wheels/public/simple/\n",
            "Collecting emoji\n",
            "  Downloading emoji-2.2.0.tar.gz (240 kB)\n",
            "\u001b[2K     \u001b[90m━━━━━━━━━━━━━━━━━━━━━━━━━━━━━━━━━━━━━━━\u001b[0m \u001b[32m240.9/240.9 KB\u001b[0m \u001b[31m6.3 MB/s\u001b[0m eta \u001b[36m0:00:00\u001b[0m\n",
            "\u001b[?25h  Preparing metadata (setup.py) ... \u001b[?25l\u001b[?25hdone\n",
            "Building wheels for collected packages: emoji\n",
            "  Building wheel for emoji (setup.py) ... \u001b[?25l\u001b[?25hdone\n",
            "  Created wheel for emoji: filename=emoji-2.2.0-py3-none-any.whl size=234926 sha256=7efa66544b74ce252fb8e5ae0b155447d0767b9adf02319d385b7bb934ba2b37\n",
            "  Stored in directory: /root/.cache/pip/wheels/86/62/9e/a6b27a681abcde69970dbc0326ff51955f3beac72f15696984\n",
            "Successfully built emoji\n",
            "Installing collected packages: emoji\n",
            "Successfully installed emoji-2.2.0\n"
          ]
        }
      ]
    }
  ]
}